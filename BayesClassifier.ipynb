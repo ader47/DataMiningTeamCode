{
 "cells": [
  {
   "cell_type": "code",
   "execution_count": 1,
   "id": "a22d5d9c",
   "metadata": {},
   "outputs": [],
   "source": [
    "# 1.导入训练集\n",
    "datas = []\n",
    "train_path = \"./data1/adult.data\"\n",
    "with open(train_path) as f:\n",
    "    datas = f.readlines()\n",
    "datas = datas[:-1]    # 去除最后一个空行"
   ]
  },
  {
   "cell_type": "code",
   "execution_count": 2,
   "id": "9ee95546",
   "metadata": {},
   "outputs": [
    {
     "name": "stdout",
     "output_type": "stream",
     "text": [
      "==================================================读取训练集==================================================\n",
      "从 ./data1/adult.data 读取到： 32561 条数据！\n"
     ]
    }
   ],
   "source": [
    "# 2. 取出每条数据的每个属性\n",
    "for i in range(datas.__len__()):\n",
    "    datas[i] = datas[i].split(',')\n",
    "    for j in range(datas[i].__len__()):\n",
    "        datas[i][j] = datas[i][j].strip('\\n').strip(' ')    # 去除每个属性前的空格和最后一个属性的换行符‘/n’\n",
    "print(\"=\"*50 + \"读取训练集\" + \"=\"*50)\n",
    "print(\"从 {} 读取到： {} 条数据！\".format(train_path, datas.__len__()))\n"
   ]
  },
  {
   "cell_type": "code",
   "execution_count": 3,
   "id": "a2c7df78",
   "metadata": {},
   "outputs": [
    {
     "name": "stdout",
     "output_type": "stream",
     "text": [
      "去除非法数据后，总共有：30162 条数据！\n"
     ]
    }
   ],
   "source": [
    "# 3.Remove all the records containing '?' (i.e., missing values). Also, remove the attribute \"native-country\".\n",
    "Datas = []\n",
    "for i in range(datas.__len__()):\n",
    "    flag = True    # 当前数据可行\n",
    "    for j in range(datas[i].__len__()):\n",
    "        if datas[i][j] == '?' or datas[i][j] == 'native-country':  # 如果当前数据含有‘ ？’则剔除这条数据\n",
    "            flag = False\n",
    "            break\n",
    "    if flag:\n",
    "        Datas.append(datas[i])\n",
    "print(\"去除非法数据后，总共有：{} 条数据！\".format(Datas.__len__()))\n"
   ]
  },
  {
   "cell_type": "code",
   "execution_count": 4,
   "id": "8f7e89c5",
   "metadata": {},
   "outputs": [
    {
     "name": "stdout",
     "output_type": "stream",
     "text": [
      "收入>50k的共有：7508 条记录， 概率为：0.24892248524633645\n",
      "收入<=50k的共有：22654 条记录， 概率为：0.7510775147536636\n"
     ]
    }
   ],
   "source": [
    "# 4. 计算先验概率：收入>50k的概率P(C0)和收入<=50k的概率P(C1)\n",
    "num_PC_0 = 0\n",
    "num_PC_1 = 0\n",
    "for i in range(Datas.__len__()):\n",
    "    if Datas[i][-1]=='>50K':\n",
    "        num_PC_0 += 1\n",
    "    elif Datas[i][-1]=='<=50K':\n",
    "        num_PC_1 += 1\n",
    "PC_0 = num_PC_0 / Datas.__len__()\n",
    "PC_1 = num_PC_1 / Datas.__len__()\n",
    "print(\"收入>50k的共有：{} 条记录， 概率为：{}\".format(num_PC_0, PC_0))\n",
    "print(\"收入<=50k的共有：{} 条记录， 概率为：{}\".format(num_PC_1, PC_1))\n"
   ]
  },
  {
   "cell_type": "code",
   "execution_count": 5,
   "id": "a35dd23c",
   "metadata": {},
   "outputs": [
    {
     "name": "stdout",
     "output_type": "stream",
     "text": [
      "\n",
      "==================================================计算每个连续属性的均值和方差==================================================\n",
      "标签为C0的连续属性的均值为：[43.95911028236548, 188149.96217368142, 11.606419818859882, 3937.6798082045816, 193.75066595631327, 45.70657964837507]\n",
      "标签为C1的连续属性的均值为：[36.60806038668668, 190338.64672905448, 9.629116270857244, 148.8938377328507, 53.44800035313852, 39.34859186015715]\n"
     ]
    }
   ],
   "source": [
    "# 5.计算每个连续属性的均值和方差\n",
    "c0_mean = [0, 0, 0, 0, 0, 0]\n",
    "c1_mean = [0, 0, 0, 0, 0, 0]\n",
    "c0_d = [0, 0, 0, 0, 0, 0]\n",
    "c1_d = [0, 0, 0, 0, 0, 0]\n",
    "for i in range(Datas.__len__()):\n",
    "    # 计算标签为C0的连续属性的均值\n",
    "    if Datas[i][-1]=='>50K':\n",
    "        for idx, j in  enumerate([0, 2, 4, 10, 11, 12]): # 取出连续属性\n",
    "            c0_mean[idx] += float(Datas[i][j])\n",
    "    # 计算标签为C1的连续属性的均值\n",
    "    elif Datas[i][-1]=='<=50K':\n",
    "        for idx, j in  enumerate([0, 2, 4, 10, 11, 12]): # 取出连续属性\n",
    "            c1_mean[idx] += float(Datas[i][j])\n",
    "for i in range(c0_mean.__len__()):\n",
    "    c0_mean[i] /= num_PC_0\n",
    "for i in range(c1_mean.__len__()):\n",
    "    c1_mean[i] /= num_PC_1\n",
    "print()\n",
    "print(\"=\"*50 + \"计算每个连续属性的均值和方差\" + \"=\"*50)\n",
    "print(\"标签为C0的连续属性的均值为：{}\".format(c0_mean))\n",
    "print(\"标签为C1的连续属性的均值为：{}\".format(c1_mean))"
   ]
  },
  {
   "cell_type": "code",
   "execution_count": 6,
   "id": "338dbb3e",
   "metadata": {},
   "outputs": [
    {
     "name": "stdout",
     "output_type": "stream",
     "text": [
      "标签为C0的连续属性的方差为：[105.45131151527511, 10570901483.818233, 5.608680149804254, 206931157.7760209, 351395.3707041601, 115.26752729959043]\n",
      "标签为C1的连续属性的方差为：[181.28829205321483, 11356949805.692152, 5.825189145745581, 876791.795871855, 96263.38660916287, 142.81469807013272]\n"
     ]
    }
   ],
   "source": [
    "for i in range(Datas.__len__()):\n",
    "    # 计算标签为C0的连续属性的方差\n",
    "    if Datas[i][-1]=='>50K':\n",
    "        for idx, j in  enumerate([0, 2, 4, 10, 11, 12]): # 取出连续属性\n",
    "            c0_d[idx] += (float(Datas[i][j]) - c0_mean[idx]) * (float(Datas[i][j]) - c0_mean[idx])\n",
    "    # 计算标签为C1的连续属性的方差\n",
    "    elif Datas[i][-1]=='<=50K':\n",
    "        for idx, j in  enumerate([0, 2, 4, 10, 11, 12]): # 取出连续属性\n",
    "            c1_d[idx] += (float(Datas[i][j]) - c1_mean[idx]) * (float(Datas[i][j]) - c1_mean[idx])\n",
    "for i in range(c0_d.__len__()):\n",
    "    c0_d[i] /= num_PC_0\n",
    "for i in range(c1_d.__len__()):\n",
    "    c1_d[i] /= num_PC_1\n",
    "print(\"标签为C0的连续属性的方差为：{}\".format(c0_d))\n",
    "print(\"标签为C1的连续属性的方差为：{}\".format(c1_d))"
   ]
  },
  {
   "cell_type": "code",
   "execution_count": 7,
   "id": "8bfda8f0",
   "metadata": {},
   "outputs": [
    {
     "name": "stdout",
     "output_type": "stream",
     "text": [
      "\n",
      "==================================================计算每个离散属性的P(xi|Ci)==================================================\n",
      "标签为C0的离散属性的P(xi|Ci)：[{'Self-emp-not-inc': 0.09509856153436334, 'Private': 0.6494405966968567, 'State-gov': 0.04581779435269046, 'Local-gov': 0.0811134789557805, 'Federal-gov': 0.048614810868407035, 'Self-emp-inc': 0.07991475759190197}, {'HS-grad': 0.2153702717101758, 'Masters': 0.12226957911561001, 'Bachelors': 0.28316462440063933, 'Some-college': 0.17794352690463505, 'Doctorate': 0.03729355354288759, 'Prof-school': 0.054075652637187, 'Assoc-voc': 0.04581779435269046, 'Assoc-acdm': 0.034096963239211506, '7th-8th': 0.004661694192860949, '12th': 0.0038625466169419287, '10th': 0.007858284496537027, '11th': 0.007858284496537027, '9th': 0.0033297815663292487, '5th-6th': 0.0015982951518380393, '1st-4th': 0.0007991475759190197}, {'Married-civ-spouse': 0.8522908897176346, 'Never-married': 0.06259989344698988, 'Divorced': 0.06020245071923282, 'Separated': 0.008790623335109217, 'Widowed': 0.010655301012253596, 'Married-spouse-absent': 0.004128929142248269, 'Married-AF-spouse': 0.0013319126265316996}, {'Exec-managerial': 0.2579914757591902, 'Prof-specialty': 0.24120937666489078, 'Tech-support': 0.03702717101758125, 'Adm-clerical': 0.06632924880127863, 'Sales': 0.12919552477357485, 'Craft-repair': 0.12093766648907832, 'Protective-serv': 0.02797016515716569, 'Other-service': 0.017581246670218435, 'Machine-op-inspct': 0.03263185935002664, 'Farming-fishing': 0.015316995205114545, 'Transport-moving': 0.04248801278636122, 'Handlers-cleaners': 0.011054874800213107, 'Armed-Forces': 0.00013319126265316994, 'Priv-house-serv': 0.00013319126265316994}, {'Husband': 0.7563931806073522, 'Not-in-family': 0.10961640916355887, 'Unmarried': 0.0283697389451252, 'Wife': 0.09243473628129995, 'Other-relative': 0.004661694192860949, 'Own-child': 0.008524240809802876}, {'White': 0.9108950452850293, 'Black': 0.0487480021310602, 'Asian-Pac-Islander': 0.03303143313798615, 'Other': 0.002797016515716569, 'Amer-Indian-Eskimo': 0.004528502930207778}, {'Male': 0.851891315929675, 'Female': 0.148108684070325}, {'United-States': 0.9316728822589239, 'India': 0.005327650506126798, 'Honduras': 0.00013319126265316994, 'Canada': 0.004794885455514118, 'Iran': 0.002397442727757059, 'Mexico': 0.004395311667554609, 'Cambodia': 0.0009323388385721897, 'Thailand': 0.00039957378795950983, 'Taiwan': 0.002530633990410229, 'Portugal': 0.0005327650506126798, 'England': 0.003995737879595098, 'China': 0.002663825253063399, 'Philippines': 0.007991475759190196, 'Jamaica': 0.0013319126265316996, 'Germany': 0.005860415556739478, 'Japan': 0.003063399041022909, 'Italy': 0.0031965903036760787, 'Dominican-Republic': 0.0002663825253063399, 'South': 0.0018646776771443793, 'Cuba': 0.0033297815663292487, 'Greece': 0.0010655301012253596, 'Peru': 0.0002663825253063399, 'Guatemala': 0.00039957378795950983, 'El-Salvador': 0.0011987213638785296, 'France': 0.0015982951518380393, 'Vietnam': 0.0006659563132658498, 'Poland': 0.0014651038891848695, 'Puerto-Rico': 0.0015982951518380393, 'Ireland': 0.0006659563132658498, 'Yugoslavia': 0.0007991475759190197, 'Columbia': 0.0002663825253063399, 'Haiti': 0.0005327650506126798, 'Hong': 0.0007991475759190197, 'Ecuador': 0.0005327650506126798, 'Nicaragua': 0.0002663825253063399, 'Trinadad&Tobago': 0.0002663825253063399, 'Hungary': 0.00039957378795950983, 'Scotland': 0.0002663825253063399, 'Laos': 0.0002663825253063399}]\n",
      "标签为C1的离散属性的P(xi|Ci)：[{'State-gov': 0.041273064359495015, 'Self-emp-not-inc': 0.07879403195903593, 'Private': 0.768517701068244, 'Federal-gov': 0.025514257967687824, 'Local-gov': 0.06435949501191843, 'Self-emp-inc': 0.020923457226096936, 'Without-pay': 0.0006179924075218504}, {'Bachelors': 0.12880727465348282, 'HS-grad': 0.3629822547894412, '11th': 0.043656749359936436, 'Masters': 0.03129690120949943, '9th': 0.018981195373885408, 'Assoc-acdm': 0.03319502074688797, '7th-8th': 0.023042288337600424, 'Some-college': 0.23580824578440893, 'Assoc-voc': 0.04250904917453871, '5th-6th': 0.012183278891145052, '10th': 0.03359230158029487, 'Preschool': 0.0019864041670345192, '1st-4th': 0.006400635649333451, '12th': 0.015361525558400282, 'Doctorate': 0.004193519908183985, 'Prof-school': 0.0060033548159265475}, {'Never-married': 0.4085812660015891, 'Married-civ-spouse': 0.3383949854330361, 'Divorced': 0.16606338836408582, 'Married-spouse-absent': 0.01496424472499338, 'Separated': 0.03853624084046967, 'Married-AF-spouse': 0.00048556546305288247, 'Widowed': 0.03297430917277302}, {'Adm-clerical': 0.14227068067449458, 'Exec-managerial': 0.09071245696124305, 'Handlers-cleaners': 0.055928312880727464, 'Prof-specialty': 0.09830493511079721, 'Other-service': 0.1359583296548071, 'Sales': 0.11538801094729408, 'Transport-moving': 0.05531032047320562, 'Farming-fishing': 0.038580383155292663, 'Machine-op-inspct': 0.07596892381036462, 'Tech-support': 0.027986227597775228, 'Craft-repair': 0.13781230687737264, 'Protective-serv': 0.019157764633177365, 'Armed-Forces': 0.00035313851858391455, 'Priv-house-serv': 0.006268208704864483}, {'Not-in-family': 0.30471439922309523, 'Husband': 0.29946146375915955, 'Wife': 0.03142932815396839, 'Own-child': 0.19431446985079898, 'Unmarried': 0.13238280215414497, 'Other-relative': 0.03769753685883288}, {'White': 0.842853359230158, 'Black': 0.10819281363114681, 'Amer-Indian-Eskimo': 0.011123863335393308, 'Other': 0.009269886112827757, 'Asian-Pac-Islander': 0.028560077690474087}, {'Male': 0.6172861304846826, 'Female': 0.3827138695153174}, {'United-States': 0.9053147347046879, 'Cuba': 0.0029575350931402844, 'Jamaica': 0.0030899620376092524, 'Mexico': 0.025470115652864837, 'Puerto-Rico': 0.004281804537829964, 'England': 0.0024719696300874016, 'Germany': 0.003707954445131103, 'Philippines': 0.005650216297342633, 'Poland': 0.0019864041670345192, 'Columbia': 0.0023836850004414233, 'Ecuador': 0.0010152732409287543, 'Laos': 0.0006621347223448397, 'Haiti': 0.001677407963273594, 'Iran': 0.0010594155557517436, 'Portugal': 0.0013242694446896795, 'Dominican-Republic': 0.0028692504634943057, 'El-Salvador': 0.004016950648892028, 'France': 0.0006621347223448397, 'Honduras': 0.00048556546305288247, 'Guatemala': 0.002648538889379359, 'Italy': 0.0019422618522115299, 'India': 0.002648538889379359, 'South': 0.002516111944910391, 'Japan': 0.0015891233336276153, 'Yugoslavia': 0.0004414231482298932, 'Taiwan': 0.0010152732409287543, 'China': 0.0021188311115034873, 'Canada': 0.0031341043524322413, 'Thailand': 0.0006179924075218504, 'Peru': 0.0012359848150437008, 'Outlying-US(Guam-USVI-etc)': 0.0006179924075218504, 'Scotland': 0.00039728083340690384, 'Trinadad&Tobago': 0.0007062770371678291, 'Greece': 0.0009269886112827757, 'Nicaragua': 0.0013684117595126688, 'Vietnam': 0.0026043965745563696, 'Hong': 0.0005738500926988612, 'Ireland': 0.000838703981636797, 'Cambodia': 0.00048556546305288247, 'Hungary': 0.0004414231482298932, 'Holand-Netherlands': 4.414231482298932e-05}]\n"
     ]
    }
   ],
   "source": [
    "# 6.计算每个离散属性的P(xi|Ci)\n",
    "c0_cnt = [{}, {}, {}, {}, {}, {}, {}, {}]\n",
    "c1_cnt = [{}, {}, {}, {}, {}, {}, {}, {}]\n",
    "for i in range(Datas.__len__()):\n",
    "    # 计算标签为C0的离散属性中每个值的个数\n",
    "    if Datas[i][-1]=='>50K':\n",
    "        for idx, j in  enumerate([1, 3, 5, 6, 7, 8, 9, 13]): # 取出离散属性\n",
    "            if Datas[i][j] not in c0_cnt[idx]:\n",
    "                c0_cnt[idx][Datas[i][j]] = 1\n",
    "            else:\n",
    "                c0_cnt[idx][Datas[i][j]] += 1\n",
    "    # 计算标签为C1的离散属性中每个值的个数\n",
    "    elif Datas[i][-1]=='<=50K':\n",
    "        for idx, j in  enumerate([1, 3, 5, 6, 7, 8, 9, 13]): # 取出离散属性\n",
    "            if Datas[i][j] not in c1_cnt[idx]:\n",
    "                c1_cnt[idx][Datas[i][j]] = 1\n",
    "            else:\n",
    "                c1_cnt[idx][Datas[i][j]] += 1\n",
    "# 计算每个离散属性取得对应值的概率P(xi|Ci)\n",
    "# 保留原先计数，用于后面拉普拉斯改进\n",
    "c0_prob = []\n",
    "c1_prob = []\n",
    "for i in range(c0_cnt.__len__()):\n",
    "    c0_prob.append(c0_cnt[i].copy())\n",
    "for i in range(c1_cnt.__len__()):\n",
    "    c1_prob.append(c1_cnt[i].copy())\n",
    "for i in range(c0_prob.__len__()):\n",
    "    for k,v in c0_prob[i].items():\n",
    "        c0_prob[i][k] = v / num_PC_0\n",
    "for i in range(c1_prob.__len__()):\n",
    "    for k,v in c1_prob[i].items():\n",
    "        c1_prob[i][k] = v / num_PC_1\n",
    "print()\n",
    "print(\"=\"*50 + \"计算每个离散属性的P(xi|Ci)\" + \"=\"*50)\n",
    "# print(c0_cnt)\n",
    "# print(c1_cnt)\n",
    "print(\"标签为C0的离散属性的P(xi|Ci)：{}\".format(c0_prob))\n",
    "print(\"标签为C1的离散属性的P(xi|Ci)：{}\".format(c1_prob))\n"
   ]
  },
  {
   "cell_type": "code",
   "execution_count": 8,
   "id": "a3ad56f8",
   "metadata": {},
   "outputs": [
    {
     "name": "stdout",
     "output_type": "stream",
     "text": [
      "\n",
      "==================================================读取测试集==================================================\n",
      "从 ./data1/adult.test 读取到： 16281 条数据！\n",
      "去除非法数据后，总共有：15060 条数据！\n"
     ]
    }
   ],
   "source": [
    "# 7.导入测试集\n",
    "datas = []\n",
    "test_path = \"./data1/adult.test\"\n",
    "with open(test_path) as f:\n",
    "    datas = f.readlines()\n",
    "datas = datas[1:]     # 取出第一行无效数据\n",
    "datas = datas[:-1]    # 去除最后一个空行\n",
    "for i in range(datas.__len__()):\n",
    "    datas[i] = datas[i].split(',')\n",
    "    for j in range(datas[i].__len__()):\n",
    "        datas[i][j] = datas[i][j].strip('\\n').strip(' ').strip('.')    # 去除每个属性前的空格和最后一个属性的换行符‘/n’和'.'\n",
    "print()\n",
    "print(\"=\"*50 + \"读取测试集\" + \"=\"*50)\n",
    "print(\"从 {} 读取到： {} 条数据！\".format(test_path, datas.__len__()))\n",
    "Datas = []\n",
    "for i in range(datas.__len__()):\n",
    "    flag = True    # 当前数据可行\n",
    "    for j in range(datas[i].__len__()):\n",
    "        if datas[i][j] == '?' or datas[i][j] == 'native-country':  # 如果当前数据含有‘ ？’则剔除这条数据\n",
    "            flag = False\n",
    "            break\n",
    "    if flag:\n",
    "        Datas.append(datas[i])\n",
    "print(\"去除非法数据后，总共有：{} 条数据！\".format(Datas.__len__()))"
   ]
  },
  {
   "cell_type": "code",
   "execution_count": 9,
   "id": "acfbbb46",
   "metadata": {},
   "outputs": [
    {
     "name": "stdout",
     "output_type": "stream",
     "text": [
      "\n",
      "==================================================开始测试==================================================\n",
      "stat testing ...\n",
      "0.00%\n",
      "39.84%\n",
      "79.68%\n",
      "100.00%\n",
      "done.\n"
     ]
    }
   ],
   "source": [
    "# 8.测试！\n",
    "print()\n",
    "print(\"=\"*50 + \"开始测试\" + \"=\"*50)\n",
    "print(\"stat testing ...\")\n",
    "iter = 0    # 记录推理了多少条数据\n",
    "tp = 0\n",
    "import math # 这是python的标准库\n",
    "for i in range(Datas.__len__()):\n",
    "    PXC_0_continuous = 1\n",
    "    PXC_0_discrete = 1\n",
    "    PXC_1_continuous = 1\n",
    "    PXC_1_discrete = 1\n",
    "    # 计算连续属性的概率\n",
    "    for idx, j in  enumerate([0, 2, 4, 10, 11, 12]): # 取出连续属性\n",
    "        # 对于连续的属性计算高斯概率密度\n",
    "        # C0\n",
    "        exponent = math.exp(-(math.pow(float(Datas[i][j])-c0_mean[idx],2))/(2*c0_d[idx]))\n",
    "        GaussProb = (1/(math.sqrt(2*math.pi)*c0_d[idx]))*exponent\n",
    "        PXC_0_continuous *= GaussProb\n",
    "        # C1\n",
    "        exponent = math.exp(-(math.pow(float(Datas[i][j])-c1_mean[idx],2))/(2*c1_d[idx]))\n",
    "        GaussProb = (1/(math.sqrt(2*math.pi)*c1_d[idx]))*exponent\n",
    "        PXC_1_continuous *= GaussProb\n",
    "    # 计算离散属性的概率\n",
    "    for idx, j in  enumerate([1, 3, 5, 6, 7, 8, 9, 13]): # 取出离散属性\n",
    "        # 如果该离散属性的值未在训练集/当前集出现，则使用拉普拉斯改进，更新离散属性的概率P(xi|Ci)\n",
    "        # ===================== 拉普拉斯改进！！！ =====================#\n",
    "        # 如果不在c0里，则更新c0_prob\n",
    "        if Datas[i][j] not in c0_prob[idx]:\n",
    "            c0_cnt[idx][Datas[i][j]] = 0    # 添加这个新的离散属性的值\n",
    "            for k, v in c0_cnt[idx].items():\n",
    "                c0_cnt[idx][k] = v + 1  # 则该离散属性的所有值出现的个数都 +1\n",
    "            # 重新计算离散属性概率\n",
    "            for k, v in c0_cnt[idx].items():\n",
    "                c0_prob[idx][k] = v / sum(c0_cnt[idx].values())\n",
    "        # 如果不在c1里，则更新c1_prob\n",
    "        if Datas[i][j] not in c1_prob[idx]:\n",
    "            c1_cnt[idx][Datas[i][j]] = 0    # 添加这个新的离散属性的值\n",
    "            for k, v in c1_cnt[idx].items():\n",
    "                c1_cnt[idx][k] = v + 1  # 则该离散属性的所有值出现的个数都 +1\n",
    "            # 重新计算离散属性概率\n",
    "            for k, v in c1_cnt[idx].items():\n",
    "                c1_prob[idx][k] = v / sum(c1_cnt[idx].values())\n",
    "        # ===================== 拉普拉斯改进！！！ =====================#\n",
    "        PXC_0_discrete *= c0_prob[idx][Datas[i][j]]\n",
    "        PXC_1_discrete *= c1_prob[idx][Datas[i][j]]\n",
    "    # 最终概率等于所有属性的条件概率相乘(Gaussian Naive Bayes)，再乘上标签概率\n",
    "    PC0_X = PXC_0_continuous * PXC_0_discrete * PC_0\n",
    "    PC1_X = PXC_1_continuous * PXC_1_discrete * PC_1\n",
    "    if PC0_X > PC1_X:\n",
    "        if Datas[i][-1] == '>50K':\n",
    "            tp += 1\n",
    "    else:\n",
    "        if Datas[i][-1] == '<=50K':\n",
    "            tp += 1\n",
    "    if iter == 0 or iter % 6000 == 0:\n",
    "        print(\"{:.2f}%\".format(iter/Datas.__len__()*100))\n",
    "    if iter == Datas.__len__() - 1:\n",
    "        print(\"100.00%\")\n",
    "    iter += 1\n",
    "print(\"done.\")"
   ]
  },
  {
   "cell_type": "code",
   "execution_count": 10,
   "id": "bb64539c",
   "metadata": {},
   "outputs": [
    {
     "name": "stdout",
     "output_type": "stream",
     "text": [
      "\n",
      "==================================================评估结果==================================================\n",
      "一共有：15060 条测试数据\n",
      "预测正确的有：12122 条数据\n",
      "测试集的准确率为：80.4914%\n"
     ]
    }
   ],
   "source": [
    "# 9.评估！\n",
    "print()\n",
    "print(\"=\"*50 + \"评估结果\" + \"=\"*50)\n",
    "print(\"一共有：{} 条测试数据\".format(Datas.__len__()))\n",
    "print(\"预测正确的有：{} 条数据\".format(tp))\n",
    "precision = tp/Datas.__len__()*100\n",
    "print(\"测试集的准确率为：{:.4f}%\".format(precision))"
   ]
  }
 ],
 "metadata": {
  "kernelspec": {
   "display_name": "Python 3 (ipykernel)",
   "language": "python",
   "name": "python3"
  },
  "language_info": {
   "codemirror_mode": {
    "name": "ipython",
    "version": 3
   },
   "file_extension": ".py",
   "mimetype": "text/x-python",
   "name": "python",
   "nbconvert_exporter": "python",
   "pygments_lexer": "ipython3",
   "version": "3.9.12"
  }
 },
 "nbformat": 4,
 "nbformat_minor": 5
}
